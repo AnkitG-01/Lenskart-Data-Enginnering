{
 "cells": [
  {
   "cell_type": "code",
   "execution_count": null,
   "metadata": {
    "application/vnd.databricks.v1+cell": {
     "cellMetadata": {
      "byteLimit": 2048000,
      "rowLimit": 10000
     },
     "inputWidgets": {},
     "nuid": "ced9fc56-d53b-46bf-a4b4-c8c75663395b",
     "showTitle": false,
     "title": ""
    }
   },
   "outputs": [],
   "source": [
    "from pyspark.sql.functions import regexp_replace, month, year, sum, count\n"
   ]
  },
  {
   "cell_type": "code",
   "execution_count": null,
   "metadata": {
    "application/vnd.databricks.v1+cell": {
     "cellMetadata": {
      "byteLimit": 2048000,
      "rowLimit": 10000
     },
     "inputWidgets": {},
     "nuid": "a3cd5afa-ed86-4b3e-b3e8-c0fd0c773024",
     "showTitle": false,
     "title": ""
    }
   },
   "outputs": [
    {
     "name": "stdout",
     "output_type": "stream",
     "text": [
      "/mnt/lenskartdata has been unmounted.\n"
     ]
    },
    {
     "data": {
      "text/plain": [
       "True"
      ]
     },
     "execution_count": 2,
     "metadata": {},
     "output_type": "execute_result"
    }
   ],
   "source": [
    "configs = {\n",
    "  \"fs.azure.account.auth.type\": \"OAuth\",\n",
    "  \"fs.azure.account.oauth.provider.type\": \"org.apache.hadoop.fs.azurebfs.oauth2.ClientCredsTokenProvider\",\n",
    "  \"fs.azure.account.oauth2.client.id\": \"[CLIENT_ID]\",\n",
    "  \"fs.azure.account.oauth2.client.secret\": '[SECRET_KEY]',\n",
    "  \"fs.azure.account.oauth2.client.endpoint\": \"https://login.microsoftonline.com/[TENANT_ID]/oauth2/token\"\n",
    "}\n",
    "\n",
    "mount_point = \"/mnt/lenskartdata\"\n",
    "\n",
    "# Unmount the directory if it is already mounted\n",
    "if any(mount.mountPoint == mount_point for mount in dbutils.fs.mounts()):\n",
    "  dbutils.fs.unmount(mount_point)\n",
    "\n",
    "# Mount the directory\n",
    "dbutils.fs.mount(\n",
    "  source=\"abfss://lenskart-data@lenskartdataankit.dfs.core.windows.net\",  # container@storageacc\n",
    "  mount_point=mount_point,\n",
    "  extra_configs=configs\n",
    ")"
   ]
  },
  {
   "cell_type": "code",
   "execution_count": null,
   "metadata": {
    "application/vnd.databricks.v1+cell": {
     "cellMetadata": {
      "byteLimit": 2048000,
      "rowLimit": 10000
     },
     "inputWidgets": {},
     "nuid": "bdac7b5a-7328-4083-8582-fbe9a22de314",
     "showTitle": false,
     "title": ""
    }
   },
   "outputs": [
    {
     "data": {
      "text/html": [
       "<style scoped>\n",
       "  .table-result-container {\n",
       "    max-height: 300px;\n",
       "    overflow: auto;\n",
       "  }\n",
       "  table, th, td {\n",
       "    border: 1px solid black;\n",
       "    border-collapse: collapse;\n",
       "  }\n",
       "  th, td {\n",
       "    padding: 5px;\n",
       "  }\n",
       "  th {\n",
       "    text-align: left;\n",
       "  }\n",
       "</style><div class='table-result-container'><table class='table-result'><thead style='background-color: white'><tr><th>path</th><th>name</th><th>size</th><th>modificationTime</th></tr></thead><tbody><tr><td>dbfs:/mnt/lenskartdata/raw-data/</td><td>raw-data/</td><td>0</td><td>1716552085000</td></tr><tr><td>dbfs:/mnt/lenskartdata/transformed-data/</td><td>transformed-data/</td><td>0</td><td>1716552098000</td></tr></tbody></table></div>"
      ]
     },
     "metadata": {
      "application/vnd.databricks.v1+output": {
       "addedWidgets": {},
       "aggData": [],
       "aggError": "",
       "aggOverflow": false,
       "aggSchema": [],
       "aggSeriesLimitReached": false,
       "aggType": "",
       "arguments": {},
       "columnCustomDisplayInfos": {},
       "data": [
        [
         "dbfs:/mnt/lenskartdata/raw-data/",
         "raw-data/",
         0,
         1716552085000
        ],
        [
         "dbfs:/mnt/lenskartdata/transformed-data/",
         "transformed-data/",
         0,
         1716552098000
        ]
       ],
       "datasetInfos": [],
       "dbfsResultPath": null,
       "isJsonSchema": true,
       "metadata": {
        "isDbfsCommandResult": false
       },
       "overflow": false,
       "plotOptions": {
        "customPlotOptions": {},
        "displayType": "table",
        "pivotAggregation": null,
        "pivotColumns": null,
        "xColumns": null,
        "yColumns": null
       },
       "removedWidgets": [],
       "schema": [
        {
         "metadata": "{}",
         "name": "path",
         "type": "\"string\""
        },
        {
         "metadata": "{}",
         "name": "name",
         "type": "\"string\""
        },
        {
         "metadata": "{}",
         "name": "size",
         "type": "\"long\""
        },
        {
         "metadata": "{}",
         "name": "modificationTime",
         "type": "\"long\""
        }
       ],
       "type": "table"
      }
     },
     "output_type": "display_data"
    }
   ],
   "source": [
    "%fs\n",
    "ls \"mnt/lenskartdata\""
   ]
  },
  {
   "cell_type": "code",
   "execution_count": null,
   "metadata": {
    "application/vnd.databricks.v1+cell": {
     "cellMetadata": {
      "byteLimit": 2048000,
      "rowLimit": 10000
     },
     "inputWidgets": {},
     "nuid": "686203a0-76f1-415c-841a-8bab6263901c",
     "showTitle": false,
     "title": ""
    }
   },
   "outputs": [
    {
     "data": {
      "text/html": [
       "\n",
       "            <div>\n",
       "                <p><b>SparkSession - hive</b></p>\n",
       "                \n",
       "        <div>\n",
       "            <p><b>SparkContext</b></p>\n",
       "\n",
       "            <p><a href=\"/?o=347755694429525#setting/sparkui/0524-204210-h0goy7ow/driver-2484834554710746265\">Spark UI</a></p>\n",
       "\n",
       "            <dl>\n",
       "              <dt>Version</dt>\n",
       "                <dd><code>v3.4.1</code></dd>\n",
       "              <dt>Master</dt>\n",
       "                <dd><code>local[*, 4]</code></dd>\n",
       "              <dt>AppName</dt>\n",
       "                <dd><code>Databricks Shell</code></dd>\n",
       "            </dl>\n",
       "        </div>\n",
       "        \n",
       "            </div>\n",
       "        "
      ],
      "text/plain": [
       "<pyspark.sql.session.SparkSession at 0x7f5b6daf3f10>"
      ]
     },
     "execution_count": 3,
     "metadata": {},
     "output_type": "execute_result"
    }
   ],
   "source": [
    "spark"
   ]
  },
  {
   "cell_type": "code",
   "execution_count": null,
   "metadata": {
    "application/vnd.databricks.v1+cell": {
     "cellMetadata": {
      "byteLimit": 2048000,
      "rowLimit": 10000
     },
     "inputWidgets": {},
     "nuid": "2636cc8d-4c06-4cb6-8af5-12992f4d1a34",
     "showTitle": false,
     "title": ""
    }
   },
   "outputs": [],
   "source": [
    "customers = spark.read.format(\"csv\").option(\"header\",\"true\").option(\"inferSchema\",\"true\").option(\"multiline\",True).load(\"/mnt/lenskartdata/raw-data/customers.csv\")\n",
    "products = spark.read.format(\"csv\").option(\"header\",\"true\").option(\"inferSchema\",\"true\").option(\"multiline\",True).load(\"/mnt/lenskartdata/raw-data/product.csv\")\n",
    "stores = spark.read.format(\"csv\").option(\"header\",\"true\").option(\"inferSchema\",\"true\").option(\"multiline\",True).load(\"/mnt/lenskartdata/raw-data/store.csv\")\n",
    "transactions = spark.read.format(\"csv\").option(\"header\",\"true\").option(\"inferSchema\",\"true\").option(\"multiline\",True).load(\"/mnt/lenskartdata/raw-data/transaction.csv\")"
   ]
  },
  {
   "cell_type": "code",
   "execution_count": null,
   "metadata": {
    "application/vnd.databricks.v1+cell": {
     "cellMetadata": {
      "byteLimit": 2048000,
      "rowLimit": 10000
     },
     "inputWidgets": {},
     "nuid": "20c8ace0-4ae6-4462-844e-b5f81d2c92d9",
     "showTitle": false,
     "title": ""
    }
   },
   "outputs": [
    {
     "name": "stdout",
     "output_type": "stream",
     "text": [
      "+-----------+----------+-----------+--------------------+----------+--------------------+--------------------+----------+\n",
      "|customer_id|first name|  last name|               email|       DOB|             address|                city|    region|\n",
      "+-----------+----------+-----------+--------------------+----------+--------------------+--------------------+----------+\n",
      "|   CUST0001| Vardaniya|      Ghosh|vardaniyaghosh@ya...|2001-03-20|804 Deshmukh Zila...|               Alwar|    Meerut|\n",
      "|   CUST0002|    Jayesh|     Bhagat|jayeshbhagat@outl...|2002-04-05|04/05, Bali Marg,...|            Chittoor|    Meerut|\n",
      "|   CUST0003|   Bhamini|       Mane|bhaminimane@outlo...|1988-02-22|297, Talwar Path ...|Sangli-Miraj & Ku...|      Pune|\n",
      "|   CUST0004|      Heer|  Zachariah|heerzachariah@gma...|2009-09-20|80/900 Batra Circ...|               Mango|    Mohali|\n",
      "|   CUST0005|    Ranbir|    Sridhar|ranbirsridhar@gma...|2001-11-13|H.No. 558 Yohanna...|                Rewa|  Vadodara|\n",
      "|   CUST0006|     Seher|     Sarraf|sehersarraf@yahoo...|1966-07-19|19/35 Salvi Nagar...|           Raebareli| Ahmedabad|\n",
      "|   CUST0007|    Mahika|      Amble|mahikaamble@gmail...|2004-01-13|H.No. 784 Kunda P...|             Gwalior|  Guwahati|\n",
      "|   CUST0008|     Baiju|       Bhat|baijubhat@outlook...|2015-03-31|26/077, Rajagopal...|       Machilipatnam|   Chennai|\n",
      "|   CUST0010|    Samiha|     Tandon|samihatandon@hotm...|1967-02-27|48/73, Swaminatha...|      Sri Ganganagar|   Chennai|\n",
      "|   CUST0011|     Kiara|      Balan|kiarabalan@outloo...|2007-04-12|63 Dash Ganj, Sol...|             Raiganj| Bhavnagar|\n",
      "|   CUST0012|      Rati|  Jayaraman|ratijayaraman@gma...|1966-12-13|H.No. 21, Borah N...|           Proddatur| Bengaluru|\n",
      "|   CUST0013|      Rati|        Sha| ratisha@hotmail.com|1969-12-24|18 Walla Street, ...|              Rajkot|   Chennai|\n",
      "|   CUST0014|     Rania|       Gour|raniagour@hotmail...|1981-05-23|H.No. 91 Loke Roa...|               Thane|   Raichur|\n",
      "|   CUST0015|  Priyansh|       Vasa|priyanshvasa@outl...|1977-08-24|17/56, Bansal Str...|           Bangalore|   Chennai|\n",
      "|   CUST0016|      Piya|      Setty| piyasetty@gmail.com|1976-08-10|H.No. 805 Johal M...|      Tadepalligudem| Hyderabad|\n",
      "|   CUST0017|     Divij|  Chaudhari|divijchaudhari@ou...|1996-10-29|74/35 Chana Stree...|           Firozabad|    Nashik|\n",
      "|   CUST0018|     Saira|     Chahal|sairachahal@gmail...|1997-09-07|20/75 Lad Path Be...|            Bhilwara|    Bhopal|\n",
      "|   CUST0019|     Baiju|Viswanathan|baijuviswanathan@...|1975-06-29|65/447, Sibal Zil...|          Kishanganj| Panchkula|\n",
      "|   CUST0020|     Anahi|      Divan|anahidivan@outloo...|1987-04-16|38 Hayre Nagar, P...|               Jammu|Vijayawada|\n",
      "|   CUST0021|    Ishaan|      Wagle|ishaanwagle@yahoo...|1967-05-15|50/808, Bakshi Ga...|             Nellore| Ahmedabad|\n",
      "+-----------+----------+-----------+--------------------+----------+--------------------+--------------------+----------+\n",
      "only showing top 20 rows\n",
      "\n"
     ]
    }
   ],
   "source": [
    "\n",
    "customers=customers.withColumn(\"address\", regexp_replace(\"address\", \"\\\\n\", \" \"))\n",
    "customers.show()"
   ]
  },
  {
   "cell_type": "code",
   "execution_count": null,
   "metadata": {
    "application/vnd.databricks.v1+cell": {
     "cellMetadata": {
      "byteLimit": 2048000,
      "rowLimit": 10000
     },
     "inputWidgets": {},
     "nuid": "11525e38-7e29-4294-ad28-60e09ae822e2",
     "showTitle": false,
     "title": ""
    }
   },
   "outputs": [
    {
     "name": "stdout",
     "output_type": "stream",
     "text": [
      "root\n",
      " |-- customer_id: string (nullable = true)\n",
      " |-- first name: string (nullable = true)\n",
      " |-- last name: string (nullable = true)\n",
      " |-- email: string (nullable = true)\n",
      " |-- DOB: date (nullable = true)\n",
      " |-- address: string (nullable = true)\n",
      " |-- city: string (nullable = true)\n",
      " |-- region: string (nullable = true)\n",
      "\n"
     ]
    }
   ],
   "source": [
    "customers.printSchema()"
   ]
  },
  {
   "cell_type": "code",
   "execution_count": null,
   "metadata": {
    "application/vnd.databricks.v1+cell": {
     "cellMetadata": {
      "byteLimit": 2048000,
      "rowLimit": 10000
     },
     "inputWidgets": {},
     "nuid": "5d0d2f6a-7f9f-4875-8d28-f5d68ea20744",
     "showTitle": false,
     "title": ""
    }
   },
   "outputs": [
    {
     "name": "stdout",
     "output_type": "stream",
     "text": [
      "+------+------+------+-----------+------+-------------------+--------------------+-------------+-------------+---------+----------------+-----+\n",
      "|    id|  size| width| model_name|prices|totalColorAvailable|                 sku|wishlistCount|purchaseCount|avgRating|totalNoOfRatings|  qty|\n",
      "+------+------+------+-----------+------+-------------------+--------------------+-------------+-------------+---------+----------------+-----+\n",
      "|146012|Medium|134 mm|  LA E13517|  1700|                  2|lenskart-air-la-e...|         2904|        81982|      4.7|             148| 3328|\n",
      "|216521|Medium|139 mm|LA E15417-W|  1700|                 23|lenskart-air-la-e...|            0|         7714|      0.0|               0|  210|\n",
      "|217261|Medium|139 mm|LH E16985-W|  1700|                  4|lenskart-hustlr-l...|            0|         5582|      0.0|               0| 1896|\n",
      "|216712|Medium|139 mm|LA E15417-W|  1700|                 31|lenskart-air-la-e...|            0|         3887|      0.0|               0|  642|\n",
      "|201315|Medium|134 mm|  VC E13634|  1700|                  2|vincent-chase-vc-...|            0|        10708|     4.75|             130| 2285|\n",
      "|211383|Medium|135 mm|  LA E16153|  1700|                  3|lenskart-air-la-e...|            0|         2922|      0.0|               0|    3|\n",
      "|147507|Medium|136 mm|  VC E13037|  1700|                  3|vincent-chase-vc-...|         8886|        64344|      4.5|             486| 9446|\n",
      "|208951|Medium|139 mm|LA E15417-W|  1700|                 19|lenskart-air-la-e...|            0|        26146|      4.6|             297|11839|\n",
      "|217202|Medium|139 mm|LH E16985-W|  1700|                  4|lenskart-hustlr-l...|            0|         3703|      5.0|               1| 1095|\n",
      "|215389|Medium|137 mm|  VC E16665|  1700|                  0|vincent-chase-vc-...|            0|         1527|      0.0|               0|  362|\n",
      "|217201|Medium|139 mm|LH E16985-W|  1700|                  4|lenskart-hustlr-l...|            0|         4146|      0.0|               0|  671|\n",
      "|217431|Medium|139 mm|LA E15417-W|  1700|                 21|lenskart-air-la-e...|            0|         2553|      5.0|               1|  956|\n",
      "|209750|  Wide|138 mm|  LA E15844|  1700|                  3|lenskart-air-la-e...|            0|         9442|     4.65|               3|  947|\n",
      "|137975|Medium|135 mm|  LA E13069|  1700|                  0|lenskart-air-la-e...|        10980|        83837|      4.6|             599| 1579|\n",
      "|145567|Medium|135 mm|  VC E13634|  1700|                  2|vincent-chase-vc-...|         3205|        41289|     4.75|             130| 2633|\n",
      "|207481|Medium|139 mm|LA E15417-W|  1700|                 23|lenskart-hustlr-l...|            0|       192623|      4.6|             297|14003|\n",
      "|145996|  Wide|138 mm|  LA E11821|  1700|                  2|lenskart-air-la-e...|        25348|       128181|      4.7|             529| 6886|\n",
      "|208956|Medium|139 mm|LA E15417-W|  1700|                 17|lenskart-air-la-e...|            0|        55331|      4.6|             297| 9288|\n",
      "|217022|Medium|137 mm|  LS E15666|  1700|                  3|vincent-chase-ls-...|            0|         3766|      0.0|               0|   52|\n",
      "|206266|Medium|137 mm|  VC E15347|  1700|                  0|vincent-chase-vc-...|            0|         6350|      5.0|               1| 2410|\n",
      "+------+------+------+-----------+------+-------------------+--------------------+-------------+-------------+---------+----------------+-----+\n",
      "only showing top 20 rows\n",
      "\n"
     ]
    }
   ],
   "source": [
    "products=products.fillna(value=0)\n",
    "products.show()"
   ]
  },
  {
   "cell_type": "code",
   "execution_count": null,
   "metadata": {
    "application/vnd.databricks.v1+cell": {
     "cellMetadata": {
      "byteLimit": 2048000,
      "rowLimit": 10000
     },
     "inputWidgets": {},
     "nuid": "665c5dd6-0ee0-442e-9054-2829002140fd",
     "showTitle": false,
     "title": ""
    }
   },
   "outputs": [
    {
     "name": "stdout",
     "output_type": "stream",
     "text": [
      "root\n",
      " |-- id: integer (nullable = true)\n",
      " |-- size: string (nullable = true)\n",
      " |-- width: string (nullable = true)\n",
      " |-- model_name: string (nullable = true)\n",
      " |-- prices: integer (nullable = true)\n",
      " |-- totalColorAvailable: integer (nullable = true)\n",
      " |-- sku: string (nullable = true)\n",
      " |-- wishlistCount: integer (nullable = true)\n",
      " |-- purchaseCount: integer (nullable = true)\n",
      " |-- avgRating: double (nullable = false)\n",
      " |-- totalNoOfRatings: integer (nullable = true)\n",
      " |-- qty: integer (nullable = true)\n",
      "\n"
     ]
    }
   ],
   "source": [
    "products.printSchema()"
   ]
  },
  {
   "cell_type": "code",
   "execution_count": null,
   "metadata": {
    "application/vnd.databricks.v1+cell": {
     "cellMetadata": {
      "byteLimit": 2048000,
      "rowLimit": 10000
     },
     "inputWidgets": {},
     "nuid": "3e15d7d4-2df9-403b-8c83-b4277da9ab33",
     "showTitle": false,
     "title": ""
    }
   },
   "outputs": [
    {
     "name": "stdout",
     "output_type": "stream",
     "text": [
      "+--------+--------------+-----------+----------+--------+--------+----------+--------------+\n",
      "|order_id|transaction_id|customer_id|product_id|store_id|quantity|order_date|payment_method|\n",
      "+--------+--------------+-----------+----------+--------+--------+----------+--------------+\n",
      "|   O0001|     TRANS0001|  CUST15390|    149409|     465|      15|2022-08-28|    Debit Card|\n",
      "|   O0002|     TRANS0002|   CUST4434|    216842|    1333|       7|2022-06-28|           UPI|\n",
      "|   O0003|     TRANS0003|  CUST44239|    217272|    1583|       2|2023-02-28|          Cash|\n",
      "|   O0004|     TRANS0004|  CUST45287|    137713|     389|       3|2022-07-06|    Debit Card|\n",
      "|   O0005|     TRANS0005|  CUST19918|    138539|    1282|       1|2022-10-22|   Credit Card|\n",
      "|   O0006|     TRANS0006|  CUST48284|    149934|    1117|       1|2022-08-12|    Debit Card|\n",
      "|   O0007|     TRANS0007|  CUST25562|    206463|    1924|      15|2023-04-14|   Credit Card|\n",
      "|   O0008|     TRANS0008|  CUST48132|    201432|      63|      11|2023-12-06|          Cash|\n",
      "|   O0009|     TRANS0009|  CUST36142|    206855|    1723|      10|2022-10-01|   Credit Card|\n",
      "|   O0010|     TRANS0010|  CUST10968|    216846|     397|      15|2023-12-10|          Cash|\n",
      "|   O0011|     TRANS0011|  CUST49469|    214473|     521|      11|2023-11-02|           UPI|\n",
      "|   O0012|     TRANS0012|   CUST8304|    149766|    1433|       8|2022-12-08|   Credit Card|\n",
      "|   O0013|     TRANS0013|   CUST1492|    209241|     671|      10|2022-09-18|          Cash|\n",
      "|   O0014|     TRANS0014|  CUST40714|    131196|    1765|       8|2023-03-07|    Debit Card|\n",
      "|   O0015|     TRANS0015|  CUST33384|    201355|     230|       9|2022-05-14|          Cash|\n",
      "|   O0016|     TRANS0016|   CUST0012|    213665|    2258|      17|2024-04-09|   Credit Card|\n",
      "|   O0017|     TRANS0017|  CUST20335|    147464|    1418|       3|2023-07-09|          Cash|\n",
      "|   O0018|     TRANS0018|   CUST0910|    208784|    1605|       9|2022-07-28|    Debit Card|\n",
      "|   O0019|     TRANS0019|  CUST16597|    209138|    1285|       6|2023-07-23|    Debit Card|\n",
      "|   O0020|     TRANS0020|   CUST7830|    146850|    1239|      10|2023-01-26|   Credit Card|\n",
      "+--------+--------------+-----------+----------+--------+--------+----------+--------------+\n",
      "only showing top 20 rows\n",
      "\n"
     ]
    }
   ],
   "source": [
    "transactions.show()"
   ]
  },
  {
   "cell_type": "code",
   "execution_count": null,
   "metadata": {
    "application/vnd.databricks.v1+cell": {
     "cellMetadata": {
      "byteLimit": 2048000,
      "rowLimit": 10000
     },
     "inputWidgets": {},
     "nuid": "e16ab29b-8e18-4c0c-ab8a-fb0103c36f8d",
     "showTitle": false,
     "title": ""
    }
   },
   "outputs": [
    {
     "name": "stdout",
     "output_type": "stream",
     "text": [
      "root\n",
      " |-- order_id: string (nullable = true)\n",
      " |-- transaction_id: string (nullable = true)\n",
      " |-- customer_id: string (nullable = true)\n",
      " |-- product_id: integer (nullable = true)\n",
      " |-- store_id: integer (nullable = true)\n",
      " |-- quantity: integer (nullable = true)\n",
      " |-- order_date: date (nullable = true)\n",
      " |-- payment_method: string (nullable = true)\n",
      "\n"
     ]
    }
   ],
   "source": [
    "transactions.printSchema()"
   ]
  },
  {
   "cell_type": "code",
   "execution_count": null,
   "metadata": {
    "application/vnd.databricks.v1+cell": {
     "cellMetadata": {
      "byteLimit": 2048000,
      "rowLimit": 10000
     },
     "inputWidgets": {},
     "nuid": "1b10f69c-87f0-4ec2-bcc6-712c4740b4b9",
     "showTitle": false,
     "title": ""
    }
   },
   "outputs": [
    {
     "name": "stdout",
     "output_type": "stream",
     "text": [
      "+----+-----------+--------------------+----------------------+-----------------+--------------------+---------------+--------------+--------+\n",
      "|  id|lk_store_id|alt_store_name_catch|store_pickup_available|store_type_labels|        address_full|           city|         state|pin_code|\n",
      "+----+-----------+--------------------+----------------------+-----------------+--------------------+---------------+--------------+--------+\n",
      "| 512|    LKST416|       Bittan Market|                  true|             COCO|Shop No E5/1, Bit...|         Bhopal|Madhya Pradesh|  462016|\n",
      "| 768|   LKST1583|       Himayat Nagar|                  true|             COCO|3-6-110/1,2,3 Sho...|      Hyderabad|     Telangana|  500029|\n",
      "|1024|    LKST925|          NRI layout|                  true|             COCO|No 06, Double Roa...|      Bengaluru|     Karnataka|  560016|\n",
      "|1280|      ST487|         Sheoraphuli|                 false|             FOFO|178/1(149), G T R...|    Sheoraphuli|   West Bengal|  712223|\n",
      "|1536|   LKST1603|       Thammenahalli|                  true|             COCO|No 196 Mei Layout...|      Bengaluru|     Karnataka|  560057|\n",
      "|2304|   LKST1842|              Jakhan|                  true|             COCO|Plot No 125 & 126...|       Dehradun|   Uttarakhand|  248001|\n",
      "|   1|      ST384|            HGB Road|                 false|             FOFO|54, Hari Ganga Ba...|       Agartala|       Tripura|  799001|\n",
      "| 257|    LKST103|   Kengeri Satellite|                  true|             COCO|Shop No 1443, Fir...|      Bengaluru|     Karnataka|  560060|\n",
      "| 513|    LKST365| 93 Avenue Mall Pune|                  true|             COCO|Shop No 2, Ground...|           Pune|   Maharashtra|  411022|\n",
      "| 769|    LKST634|            Mudichur|                  true|             COCO|No 20, Rathana Co...|        Chennai|    Tamil Nadu|  600045|\n",
      "|1025|   LKST1023|            Neredmet|                  true|             COCO|H No 37 74/11/1, ...|      Hyderabad|     Telangana|  500094|\n",
      "|1281|    LKST916|           Adityapur|                  true|             COCO|Site No 1, Adityp...|     Jamshedpur|     Jharkhand|  831013|\n",
      "|1537|   LKST1598|        Khagaul Road|                  true|             COCO|Ground Floor, Kha...|          Patna|         Bihar|  800002|\n",
      "|1793|   LKST1781|          Chhatarpur|                  true|             COCO|Property Bearing ...|      New Delhi|         Delhi|  110074|\n",
      "|2305|   LKST2164|         Karve Nagar|                  true|             COCO|Sr No 6/1, Hirgar...|           Pune|   Maharashtra|  411052|\n",
      "|   2|       ST07|         New CG Road|                 false|             FOFO|Shop No G 44, Sar...|      Ahmedabad|       Gujarat|  382424|\n",
      "| 258|    LKST104|  Kumaraswamy Layout|                  true|             COCO|Shop No 1319, 50 ...|      Bengaluru|     Karnataka|  560078|\n",
      "| 514|      ST312|            Junagadh|                 false|             FOFO|Shop No G2, Groun...|       Junagadh|       Gujarat|  362001|\n",
      "| 770|    LKST656|        Trichy Cantt|                  true|             COCO|No 8, Bharathiar ...|Tiruchirappalli|    Tamil Nadu|  620001|\n",
      "|1026|    LKST938|          Vikrampuri|                  true|             COCO|Plot No 6 S, Nos ...|      Hyderabad|     Telangana|  500015|\n",
      "+----+-----------+--------------------+----------------------+-----------------+--------------------+---------------+--------------+--------+\n",
      "only showing top 20 rows\n",
      "\n"
     ]
    }
   ],
   "source": [
    "stores.show()"
   ]
  },
  {
   "cell_type": "code",
   "execution_count": null,
   "metadata": {
    "application/vnd.databricks.v1+cell": {
     "cellMetadata": {
      "byteLimit": 2048000,
      "rowLimit": 10000
     },
     "inputWidgets": {},
     "nuid": "6ce3f973-a537-402a-9d63-14421dd8f871",
     "showTitle": false,
     "title": ""
    }
   },
   "outputs": [
    {
     "name": "stdout",
     "output_type": "stream",
     "text": [
      "root\n",
      " |-- id: integer (nullable = true)\n",
      " |-- lk_store_id: string (nullable = true)\n",
      " |-- alt_store_name_catch: string (nullable = true)\n",
      " |-- store_pickup_available: boolean (nullable = true)\n",
      " |-- store_type_labels: string (nullable = true)\n",
      " |-- address_full: string (nullable = true)\n",
      " |-- city: string (nullable = true)\n",
      " |-- state: string (nullable = true)\n",
      " |-- pin_code: integer (nullable = true)\n",
      "\n"
     ]
    }
   ],
   "source": [
    "stores.printSchema()"
   ]
  },
  {
   "cell_type": "code",
   "execution_count": null,
   "metadata": {
    "application/vnd.databricks.v1+cell": {
     "cellMetadata": {
      "byteLimit": 2048000,
      "rowLimit": 10000
     },
     "inputWidgets": {},
     "nuid": "0faa8b83-8e12-4c9d-a3c2-8e254a2f784a",
     "showTitle": false,
     "title": ""
    }
   },
   "outputs": [
    {
     "name": "stdout",
     "output_type": "stream",
     "text": [
      "+--------------------+--------------------+-------------+\n",
      "|          model_name|                 sku|purchaseCount|\n",
      "+--------------------+--------------------+-------------+\n",
      "|Lenskart Gold Mem...|lenskart-select-m...|     10322071|\n",
      "|Aqua Gold Contact...|lenskart-aquagold...|      7461575|\n",
      "|Aqualens Spectacl...|aqualens-lens-len...|      7197166|\n",
      "|Aqualens Spectacl...|aqualens-lens-len...|      7197166|\n",
      "|Aqualens Lens Cle...|aqualens-digital-...|      4601436|\n",
      "|Aqualens Lens Cle...|aqualens-digital-...|      4601436|\n",
      "|Lenskart Gold MAX...|lenskart-gold-max...|      3655835|\n",
      "|Lenskart Gold MAX...|lenskart-gold-max...|      3321457|\n",
      "|Lenskart Gold Mem...|lenskart-gold-pre...|      3241985|\n",
      "|                NULL|home-lenskart-dem...|      3042740|\n",
      "+--------------------+--------------------+-------------+\n",
      "\n"
     ]
    }
   ],
   "source": [
    "#Find the top 10 Highest Selling Product\n",
    "top_10_highest_selling_products = products.orderBy(\"purchaseCount\", ascending = False).select(\"model_name\",\"sku\",\"purchaseCount\").limit(10)\n",
    "top_10_highest_selling_products.show()\n"
   ]
  },
  {
   "cell_type": "code",
   "execution_count": null,
   "metadata": {
    "application/vnd.databricks.v1+cell": {
     "cellMetadata": {
      "byteLimit": 2048000,
      "rowLimit": 10000
     },
     "inputWidgets": {},
     "nuid": "0c4056ce-db6b-4977-a6b6-b7cecd93deef",
     "showTitle": false,
     "title": ""
    }
   },
   "outputs": [
    {
     "name": "stdout",
     "output_type": "stream",
     "text": [
      "Aquacolor Combo-Mystery Brown Dusky Brown\n",
      "0\n"
     ]
    }
   ],
   "source": [
    "#Find the Lowest Selling Product\n",
    "lowest_selling_product = products.orderBy(\"purchaseCount\", ascending = True).select(\"model_name\",\"sku\",\"purchaseCount\")\n",
    "print(lowest_selling_product.first()[0])\n",
    "print(lowest_selling_product.first()[2])"
   ]
  },
  {
   "cell_type": "code",
   "execution_count": null,
   "metadata": {
    "application/vnd.databricks.v1+cell": {
     "cellMetadata": {
      "byteLimit": 2048000,
      "rowLimit": 10000
     },
     "inputWidgets": {},
     "nuid": "9b9b6948-b5d2-4d6d-8533-2d771f52c308",
     "showTitle": false,
     "title": ""
    }
   },
   "outputs": [
    {
     "name": "stdout",
     "output_type": "stream",
     "text": [
      "+-----+-----------------+\n",
      "|month|transaction_count|\n",
      "+-----+-----------------+\n",
      "|   12|            89742|\n",
      "|    1|            88317|\n",
      "|    6|            87590|\n",
      "|    3|            86743|\n",
      "|    5|            91459|\n",
      "|    9|            86098|\n",
      "|    4|            85269|\n",
      "|    8|            91670|\n",
      "|    7|            89847|\n",
      "|   10|            87669|\n",
      "|   11|            88287|\n",
      "|    2|            82209|\n",
      "+-----+-----------------+\n",
      "\n"
     ]
    }
   ],
   "source": [
    "month_wise_sales=transactions.groupBy(month(\"order_date\").alias(\"month\")).agg(sum(\"quantity\").alias(\"transaction_count\"))\n",
    "month_wise_sales.show()"
   ]
  },
  {
   "cell_type": "code",
   "execution_count": null,
   "metadata": {
    "application/vnd.databricks.v1+cell": {
     "cellMetadata": {
      "byteLimit": 2048000,
      "rowLimit": 10000
     },
     "inputWidgets": {},
     "nuid": "52b3ffe6-086a-4f0c-82ab-3e60cf88c4a0",
     "showTitle": false,
     "title": ""
    }
   },
   "outputs": [
    {
     "name": "stdout",
     "output_type": "stream",
     "text": [
      "August\n",
      "91670\n"
     ]
    }
   ],
   "source": [
    "#Find the Highest Selling Month\n",
    "months = [\"January\",\"February\",\"March\",\"April\",\"May\",\"June\",\"July\",\"August\",\"September\",\"October\",\"November\",\"December\"]\n",
    "highest_selling_month = months[month_wise_sales.orderBy(\"transaction_count\",ascending = False).first()[0]-1]\n",
    "highest_sale = month_wise_sales.orderBy(\"transaction_count\",ascending = False).first()[1]\n",
    "print(highest_selling_month)\n",
    "print(highest_sale)"
   ]
  },
  {
   "cell_type": "code",
   "execution_count": null,
   "metadata": {
    "application/vnd.databricks.v1+cell": {
     "cellMetadata": {
      "byteLimit": 2048000,
      "rowLimit": 10000
     },
     "inputWidgets": {},
     "nuid": "2af17f35-23ef-4949-ad60-640aaef7733e",
     "showTitle": false,
     "title": ""
    }
   },
   "outputs": [
    {
     "name": "stdout",
     "output_type": "stream",
     "text": [
      "February\n",
      "82209\n"
     ]
    }
   ],
   "source": [
    "#Find the Lowest Selling Month\n",
    "lowest_selling_month = months[month_wise_sales.orderBy(\"transaction_count\", ascending = True).first()[0]-1]\n",
    "lowest_sale = month_wise_sales.orderBy(\"transaction_count\", ascending = True).first()[1]\n",
    "print(lowest_selling_month)\n",
    "print(lowest_sale)"
   ]
  },
  {
   "cell_type": "code",
   "execution_count": null,
   "metadata": {
    "application/vnd.databricks.v1+cell": {
     "cellMetadata": {
      "byteLimit": 2048000,
      "rowLimit": 10000
     },
     "inputWidgets": {},
     "nuid": "d55f478e-916a-4362-a2e3-5c8aaeb5da9e",
     "showTitle": false,
     "title": ""
    }
   },
   "outputs": [
    {
     "name": "stdout",
     "output_type": "stream",
     "text": [
      "+--------------------+---------+----------------+\n",
      "|                 sku|avgRating|totalNoOfRatings|\n",
      "+--------------------+---------+----------------+\n",
      "|vincent-chase-ful...|      5.0|              19|\n",
      "|vincent-chase-ful...|      5.0|              19|\n",
      "|lenskart-reader-l...|      5.0|              17|\n",
      "|lenskart-reader-l...|      5.0|              17|\n",
      "|lenskart-reader-l...|      5.0|              17|\n",
      "|lenskart-reader-l...|      5.0|              17|\n",
      "|lenskart-gold-max...|      5.0|              15|\n",
      "|hooper-hp-e10086-...|      5.0|              14|\n",
      "|hooper-hp-e10086-...|      5.0|              14|\n",
      "|hooper-hp-e10086-...|      5.0|              14|\n",
      "|hooper-hp-e10086-...|      5.0|              14|\n",
      "|hooper-hp-e10086-...|      5.0|              14|\n",
      "|hooper-hp-e10086-...|      5.0|              14|\n",
      "|hooper-hp-e10077-...|      5.0|              13|\n",
      "|hooper-hp-e10077-...|      5.0|              13|\n",
      "+--------------------+---------+----------------+\n",
      "\n"
     ]
    }
   ],
   "source": [
    "#Find top 15 Highest Rated Product\n",
    "top_15_products_by_ratings = products.orderBy(\"avgRating\", \"totalNoOfRatings\", ascending = False).select(\"sku\", \"avgRating\", \"totalNoOfRatings\").limit(15)\n",
    "top_15_products_by_ratings.show()\n"
   ]
  },
  {
   "cell_type": "code",
   "execution_count": null,
   "metadata": {
    "application/vnd.databricks.v1+cell": {
     "cellMetadata": {
      "byteLimit": 2048000,
      "rowLimit": 10000
     },
     "inputWidgets": {},
     "nuid": "3a9acedd-5dbb-47b6-8d8f-c32777de51d0",
     "showTitle": false,
     "title": ""
    }
   },
   "outputs": [
    {
     "name": "stdout",
     "output_type": "stream",
     "text": [
      "lenskart-aquagold-membership\n",
      "331436\n"
     ]
    }
   ],
   "source": [
    "#Most Wishlisted Item\n",
    "products_by_wishlists = products.orderBy(\"wishlistCount\", ascending = False).select(\"sku\", \"wishlistCount\")\n",
    "most_wishlisted_product = products_by_wishlists.first()[0]\n",
    "most_wishlists = products_by_wishlists.first()[1]\n",
    "print(most_wishlisted_product)\n",
    "print(most_wishlists)"
   ]
  },
  {
   "cell_type": "code",
   "execution_count": null,
   "metadata": {
    "application/vnd.databricks.v1+cell": {
     "cellMetadata": {
      "byteLimit": 2048000,
      "rowLimit": 10000
     },
     "inputWidgets": {},
     "nuid": "7341cc4e-af79-4f93-bad5-5a4a46fa2509",
     "showTitle": false,
     "title": ""
    }
   },
   "outputs": [
    {
     "name": "stdout",
     "output_type": "stream",
     "text": [
      "+----+-----------+\n",
      "|year|Sales_count|\n",
      "+----+-----------+\n",
      "|2023|     525469|\n",
      "|2022|     367994|\n",
      "|2024|     161437|\n",
      "+----+-----------+\n",
      "\n"
     ]
    }
   ],
   "source": [
    "#Year Wise Sales\n",
    "year_wise_sales=transactions.groupBy(year(\"order_date\").alias(\"year\")).agg(sum(\"quantity\").alias(\"Sales_count\"))\n",
    "year_wise_sales.show()"
   ]
  },
  {
   "cell_type": "code",
   "execution_count": null,
   "metadata": {
    "application/vnd.databricks.v1+cell": {
     "cellMetadata": {
      "byteLimit": 2048000,
      "rowLimit": 10000
     },
     "inputWidgets": {},
     "nuid": "6047b462-de40-40e9-b79e-332ce2c515ed",
     "showTitle": false,
     "title": ""
    }
   },
   "outputs": [
    {
     "name": "stdout",
     "output_type": "stream",
     "text": [
      "+-----------+--------------------+-------------+-----+------------------+\n",
      "| model_name|                 sku|wishlistCount|  qty|    wishlist/stock|\n",
      "+-----------+--------------------+-------------+-----+------------------+\n",
      "|  LA E13517|lenskart-air-la-e...|         2904| 3328|0.8725961538461539|\n",
      "|LA E15417-W|lenskart-air-la-e...|            0|  210|               0.0|\n",
      "|LH E16985-W|lenskart-hustlr-l...|            0| 1896|               0.0|\n",
      "|LA E15417-W|lenskart-air-la-e...|            0|  642|               0.0|\n",
      "|  VC E13634|vincent-chase-vc-...|            0| 2285|               0.0|\n",
      "|  LA E16153|lenskart-air-la-e...|            0|    3|               0.0|\n",
      "|  VC E13037|vincent-chase-vc-...|         8886| 9446| 0.940715646834639|\n",
      "|LA E15417-W|lenskart-air-la-e...|            0|11839|               0.0|\n",
      "|LH E16985-W|lenskart-hustlr-l...|            0| 1095|               0.0|\n",
      "|  VC E16665|vincent-chase-vc-...|            0|  362|               0.0|\n",
      "|LH E16985-W|lenskart-hustlr-l...|            0|  671|               0.0|\n",
      "|LA E15417-W|lenskart-air-la-e...|            0|  956|               0.0|\n",
      "|  LA E15844|lenskart-air-la-e...|            0|  947|               0.0|\n",
      "|  LA E13069|lenskart-air-la-e...|        10980| 1579| 6.953768207726409|\n",
      "|  VC E13634|vincent-chase-vc-...|         3205| 2633|1.2172426889479682|\n",
      "|LA E15417-W|lenskart-hustlr-l...|            0|14003|               0.0|\n",
      "|  LA E11821|lenskart-air-la-e...|        25348| 6886|3.6810920708684285|\n",
      "|LA E15417-W|lenskart-air-la-e...|            0| 9288|               0.0|\n",
      "|  LS E15666|vincent-chase-ls-...|            0|   52|               0.0|\n",
      "|  VC E15347|vincent-chase-vc-...|            0| 2410|               0.0|\n",
      "+-----------+--------------------+-------------+-----+------------------+\n",
      "only showing top 20 rows\n",
      "\n"
     ]
    }
   ],
   "source": [
    "#Wishlist-Stock Ratio\n",
    "wishlist_stock = products.select(\"model_name\", \"sku\", \"wishlistCount\", \"qty\")\n",
    "wishlist_stock = wishlist_stock.withColumn(\"wishlist/stock\",wishlist_stock[\"wishlistCount\"]/wishlist_stock[\"qty\"])\n",
    "wishlist_stock.show()"
   ]
  },
  {
   "cell_type": "code",
   "execution_count": null,
   "metadata": {
    "application/vnd.databricks.v1+cell": {
     "cellMetadata": {
      "byteLimit": 2048000,
      "rowLimit": 10000
     },
     "inputWidgets": {},
     "nuid": "4545e557-820a-469d-b692-070cfcc05724",
     "showTitle": false,
     "title": ""
    }
   },
   "outputs": [],
   "source": [
    "#Export from pyspark dataframe\n",
    "wishlist_stock.write.mode(\"overwrite\").option(\"header\",\"true\").csv(\"/mnt/lenskartdata/transformed-data/wishlist_stock\")\n",
    "products.write.mode(\"overwrite\").option(\"header\",\"true\").csv(\"/mnt/lenskartdata/transformed-data/products\")\n",
    "transactions.write.mode(\"overwrite\").option(\"header\",\"true\").csv(\"/mnt/lenskartdata/transformed-data/transactions\")\n",
    "customers.write.mode(\"overwrite\").option(\"header\",\"true\").csv(\"/mnt/lenskartdata/transformed-data/customers\")\n",
    "stores.write.mode(\"overwrite\").option(\"header\",\"true\").csv(\"/mnt/lenskartdata/transformed-data/stores\")"
   ]
  },
  {
   "cell_type": "code",
   "execution_count": null,
   "metadata": {
    "application/vnd.databricks.v1+cell": {
     "cellMetadata": {
      "byteLimit": 2048000,
      "rowLimit": 10000
     },
     "inputWidgets": {},
     "nuid": "2b89f394-1b3c-4ec7-a899-cd4bf0936058",
     "showTitle": false,
     "title": ""
    }
   },
   "outputs": [],
   "source": [
    "#Export from pandas dataframe\n",
    "stores.toPandas().to_csv(\"/dbfs/mnt/lenskartdata/transformed-data/stores.csv\", index = False)\n",
    "wishlist_stock.toPandas().to_csv(\"/dbfs/mnt/lenskartdata/transformed-data/wishlist_stock.csv\", index = False)\n",
    "transactions.toPandas().to_csv(\"/dbfs/mnt/lenskartdata/transformed-data/transactions.csv\", index = False)\n",
    "customers.toPandas().to_csv(\"/dbfs/mnt/lenskartdata/transformed-data/customers.csv\", index = False)\n",
    "products.toPandas().to_csv(\"/dbfs/mnt/lenskartdata/transformed-data/products.csv\", index = False)\n",
    "top_10_highest_selling_products.toPandas().to_csv(\"/dbfs/mnt/lenskartdata/transformed-data/top_10_highest_selling_products.csv\", index = False)\n",
    "top_15_products_by_ratings.toPandas().to_csv(\"/dbfs/mnt/lenskartdata/transformed-data/top_15_highest_rated_products.csv\", index = False)"
   ]
  },
  {
   "cell_type": "code",
   "execution_count": null,
   "metadata": {
    "application/vnd.databricks.v1+cell": {
     "cellMetadata": {
      "byteLimit": 2048000,
      "rowLimit": 10000
     },
     "inputWidgets": {},
     "nuid": "5283aba6-7d4a-44aa-991f-f0f951990d78",
     "showTitle": false,
     "title": ""
    }
   },
   "outputs": [
    {
     "name": "stdout",
     "output_type": "stream",
     "text": [
      "+--------------+------------------+\n",
      "|payment_method|no_of_transactions|\n",
      "+--------------+------------------+\n",
      "|   Credit Card|             24955|\n",
      "|          Cash|             25036|\n",
      "|    Debit Card|             25139|\n",
      "|           UPI|             24870|\n",
      "+--------------+------------------+\n",
      "\n"
     ]
    }
   ],
   "source": [
    "#Transactions by payment methods\n",
    "transactions_by_payment_methods = transactions.groupBy(transactions.payment_method.alias(\"payment_method\")).agg(count(\"payment_method\").alias(\"no_of_transactions\"))\n",
    "transactions_by_payment_methods.show()"
   ]
  },
  {
   "cell_type": "code",
   "execution_count": null,
   "metadata": {
    "application/vnd.databricks.v1+cell": {
     "cellMetadata": {
      "byteLimit": 2048000,
      "rowLimit": 10000
     },
     "inputWidgets": {},
     "nuid": "2eee4dbf-744c-4380-b521-f7e978efea33",
     "showTitle": false,
     "title": ""
    }
   },
   "outputs": [
    {
     "name": "stdout",
     "output_type": "stream",
     "text": [
      "+----+------------------+\n",
      "|year|no_of_transactions|\n",
      "+----+------------------+\n",
      "|2023|             49993|\n",
      "|2022|             34729|\n",
      "|2024|             15278|\n",
      "+----+------------------+\n",
      "\n"
     ]
    }
   ],
   "source": [
    "#Transactions by year\n",
    "transactions_by_year = transactions.groupBy(year(\"order_date\").alias(\"year\")).agg(count(\"order_id\").alias(\"no_of_transactions\"))\n",
    "transactions_by_year.show()"
   ]
  },
  {
   "cell_type": "code",
   "execution_count": null,
   "metadata": {
    "application/vnd.databricks.v1+cell": {
     "cellMetadata": {
      "byteLimit": 2048000,
      "rowLimit": 10000
     },
     "inputWidgets": {},
     "nuid": "e3702c97-7efd-490d-8840-ec66eb476291",
     "showTitle": false,
     "title": ""
    }
   },
   "outputs": [],
   "source": [
    "transactions_by_payment_methods.toPandas().to_csv(\"/dbfs/mnt/lenskartdata/transformed-data/transactions_by_payment_methods.csv\", index = False)\n",
    "month_wise_sales.toPandas().to_csv(\"/dbfs/mnt/lenskartdata/transformed-data/month_wise_sales.csv\", index = False)\n",
    "transactions_by_year.toPandas().to_csv(\"/dbfs/mnt/lenskartdata/transformed-data/transactions_by_year.csv\", index = False)"
   ]
  },
  {
   "cell_type": "code",
   "execution_count": null,
   "metadata": {
    "application/vnd.databricks.v1+cell": {
     "cellMetadata": {},
     "inputWidgets": {},
     "nuid": "cb705b13-e303-44f0-a798-51256fd5e378",
     "showTitle": false,
     "title": ""
    }
   },
   "outputs": [],
   "source": []
  }
 ],
 "metadata": {
  "application/vnd.databricks.v1+notebook": {
   "dashboards": [],
   "environmentMetadata": null,
   "language": "python",
   "notebookMetadata": {
    "mostRecentlyExecutedCommandWithImplicitDF": {
     "commandId": 1395075978486268,
     "dataframes": [
      "_sqldf"
     ]
    },
    "pythonIndentUnit": 4
   },
   "notebookName": "Lenskart Data Transformation",
   "widgets": {}
  },
  "language_info": {
   "name": "python"
  }
 },
 "nbformat": 4,
 "nbformat_minor": 0
}
